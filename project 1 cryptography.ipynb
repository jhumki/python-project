{
 "cells": [
  {
   "cell_type": "code",
   "execution_count": 2,
   "metadata": {},
   "outputs": [],
   "source": [
    "from cryptography.fernet import Fernet"
   ]
  },
  {
   "cell_type": "code",
   "execution_count": 9,
   "metadata": {},
   "outputs": [],
   "source": [
    "def generatepasskey():\n",
    "    key = Fernet.generate_key()\n",
    "    print(key)\n",
    "    \n",
    "    xyz =open(\"passwordkey.key\",'wb')\n",
    "    xyz.write(key)\n",
    "    xyz.close()"
   ]
  },
  {
   "cell_type": "code",
   "execution_count": 8,
   "metadata": {},
   "outputs": [
    {
     "name": "stdout",
     "output_type": "stream",
     "text": [
      "b'dNcfpJojH4c41It_KJJhr5YEHft_EkvKjJGCZslIcrE='\n"
     ]
    }
   ],
   "source": [
    "generatepasskey()"
   ]
  },
  {
   "cell_type": "code",
   "execution_count": 10,
   "metadata": {},
   "outputs": [],
   "source": [
    "def getmykey():\n",
    "    xyz =open(\"passwordkey.key\",'rb')\n",
    "    return xyz.read()"
   ]
  },
  {
   "cell_type": "code",
   "execution_count": 11,
   "metadata": {},
   "outputs": [
    {
     "data": {
      "text/plain": [
       "b'dNcfpJojH4c41It_KJJhr5YEHft_EkvKjJGCZslIcrE='"
      ]
     },
     "execution_count": 11,
     "metadata": {},
     "output_type": "execute_result"
    }
   ],
   "source": [
    "getmykey()"
   ]
  },
  {
   "cell_type": "code",
   "execution_count": 12,
   "metadata": {},
   "outputs": [],
   "source": [
    "def getcontentfromuser():\n",
    "    return input(\"Enter the content you want to encrypt\")"
   ]
  },
  {
   "cell_type": "code",
   "execution_count": 13,
   "metadata": {},
   "outputs": [
    {
     "name": "stdout",
     "output_type": "stream",
     "text": [
      "Enter the content you want to encryptI love learning python with Letsupgrade\n"
     ]
    },
    {
     "data": {
      "text/plain": [
       "'I love learning python with Letsupgrade'"
      ]
     },
     "execution_count": 13,
     "metadata": {},
     "output_type": "execute_result"
    }
   ],
   "source": [
    "getcontentfromuser()"
   ]
  },
  {
   "cell_type": "code",
   "execution_count": 14,
   "metadata": {},
   "outputs": [],
   "source": [
    "def encryptmessage(message_normal):\n",
    "    key = getmykey()\n",
    "    k = Fernet(key)\n",
    "    encrypted_message = k.encrypt(message_normal)\n",
    "    return encrypted_message\n",
    "    \n",
    "    "
   ]
  },
  {
   "cell_type": "code",
   "execution_count": 32,
   "metadata": {},
   "outputs": [
    {
     "data": {
      "text/plain": [
       "b'gAAAAABf3IFAOR4wEJ6gSNNJKPQ9IiPVyGSEY4knZmsnjUR-q0ycxgWKcuIbeiFDnihZOPELZS4jbU-_ypoHop1Ged2rw4a6vg=='"
      ]
     },
     "execution_count": 32,
     "metadata": {},
     "output_type": "execute_result"
    }
   ],
   "source": [
    "encryptmessage(b'arif')"
   ]
  },
  {
   "cell_type": "code",
   "execution_count": 30,
   "metadata": {},
   "outputs": [],
   "source": [
    "def decryptmessage(message_secret):\n",
    "    key = getmykey()\n",
    "    k= Fernet(key)\n",
    "    decrypted_message = k.decrypt(message_secret)\n",
    "    return decrypted_message"
   ]
  },
  {
   "cell_type": "code",
   "execution_count": 33,
   "metadata": {},
   "outputs": [
    {
     "data": {
      "text/plain": [
       "b'arif'"
      ]
     },
     "execution_count": 33,
     "metadata": {},
     "output_type": "execute_result"
    }
   ],
   "source": [
    "decryptmessage(b'gAAAAABf3IFAOR4wEJ6gSNNJKPQ9IiPVyGSEY4knZmsnjUR-q0ycxgWKcuIbeiFDnihZOPELZS4jbU-_ypoHop1Ged2rw4a6vg==')"
   ]
  }
 ],
 "metadata": {
  "kernelspec": {
   "display_name": "Python 3",
   "language": "python",
   "name": "python3"
  },
  "language_info": {
   "codemirror_mode": {
    "name": "ipython",
    "version": 3
   },
   "file_extension": ".py",
   "mimetype": "text/x-python",
   "name": "python",
   "nbconvert_exporter": "python",
   "pygments_lexer": "ipython3",
   "version": "3.8.3"
  }
 },
 "nbformat": 4,
 "nbformat_minor": 4
}
